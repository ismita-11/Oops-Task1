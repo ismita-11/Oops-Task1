{
 "cells": [
  {
   "cell_type": "code",
   "execution_count": 2,
   "id": "f906f233-d9c8-4771-8bbd-50e192a386c8",
   "metadata": {},
   "outputs": [],
   "source": [
    "class vehicle:\n",
    "    \n",
    "    def __init__(self,name_of_vehicle,Max_speed,Average_of_vehicle):\n",
    "        self.name_of_vehicle= name_of_vehicle\n",
    "        self.Max_speed= Max_speed\n",
    "        self.Average_of_vehicle=Average_of_vehicle\n",
    "        \n",
    "        \n",
    "    def return_vehicle_details(self):\n",
    "        return self.name_of_vehicle,self.Max_speed,self.Average_of_vehicle\n",
    "    "
   ]
  },
  {
   "cell_type": "code",
   "execution_count": 9,
   "id": "0a6f1748-c917-49ca-a0f1-8c0e422ae0d7",
   "metadata": {},
   "outputs": [],
   "source": [
    "i=vehicle(\"Train\",567.8,40)"
   ]
  },
  {
   "cell_type": "code",
   "execution_count": 11,
   "id": "832eac96-cf37-45cd-9733-639ad0f4c142",
   "metadata": {},
   "outputs": [
    {
     "data": {
      "text/plain": [
       "('Train', 567.8, 40)"
      ]
     },
     "execution_count": 11,
     "metadata": {},
     "output_type": "execute_result"
    }
   ],
   "source": [
    "i.return_vehicle_details()"
   ]
  },
  {
   "cell_type": "code",
   "execution_count": 17,
   "id": "9699df03-1f8f-4c07-b202-33a22040ef38",
   "metadata": {},
   "outputs": [],
   "source": [
    "class vehicle:\n",
    "    \n",
    "    def __init__(self,name_of_vehicle,seat_capacity):\n",
    "        self.name_of_vehicle= name_of_vehicle\n",
    "        self.seat_capacity = seat_capacity\n",
    "        \n",
    "class Car(vehicle):\n",
    "    def return_vehicle_details(self):\n",
    "        return self.name_of_vehicle,self.seat_capacity\n",
    "    \n",
    "        \n",
    "        \n",
    "    \n",
    "    "
   ]
  },
  {
   "cell_type": "code",
   "execution_count": 18,
   "id": "3e8e6715-3018-404d-80ab-9b1562119be0",
   "metadata": {},
   "outputs": [],
   "source": [
    "i=Car(\"Train\",1500)"
   ]
  },
  {
   "cell_type": "code",
   "execution_count": 19,
   "id": "801d8d21-287a-44e2-a1ad-f581791af6d6",
   "metadata": {},
   "outputs": [
    {
     "data": {
      "text/plain": [
       "('Train', 1500)"
      ]
     },
     "execution_count": 19,
     "metadata": {},
     "output_type": "execute_result"
    }
   ],
   "source": [
    "i.return_vehicle_details()"
   ]
  },
  {
   "cell_type": "markdown",
   "id": "8e3d8216-6f34-4e4c-a72c-89a3ab496521",
   "metadata": {},
   "source": [
    "Multiple Inheritance:-\n",
    "Class which contain more parent clasees and only one child class is called multiple inheritance"
   ]
  },
  {
   "cell_type": "code",
   "execution_count": 26,
   "id": "89942e80-9f35-4f4d-a605-f434f700e830",
   "metadata": {},
   "outputs": [],
   "source": [
    "class class1:\n",
    "    def m (self):\n",
    "        print(\"it is a python class\")\n",
    "        \n",
    "class class2:\n",
    "    def are(self):\n",
    "        print(\"This is HTML class\")\n",
    "        \n",
    "class class3(class1,class2):\n",
    "    pass"
   ]
  },
  {
   "cell_type": "code",
   "execution_count": 21,
   "id": "ea2fb0dd-380d-4093-9891-79f2fc78438d",
   "metadata": {},
   "outputs": [],
   "source": [
    "you=class3()"
   ]
  },
  {
   "cell_type": "code",
   "execution_count": 25,
   "id": "e705bf1e-d821-4323-b521-7f387ae100be",
   "metadata": {},
   "outputs": [
    {
     "name": "stdout",
     "output_type": "stream",
     "text": [
      "it is a python class\n",
      "This is HTML class\n"
     ]
    }
   ],
   "source": [
    "you.m()\n",
    "you.are()"
   ]
  },
  {
   "cell_type": "markdown",
   "id": "48c95fc4-8483-4e3a-8448-7badce043aaf",
   "metadata": {},
   "source": [
    "Overridding in Python:- whenever we write same method name with same signature in parent and child class"
   ]
  },
  {
   "cell_type": "code",
   "execution_count": 2,
   "id": "5a0d5cdf-f96d-4762-9e40-bdf744f7cdb9",
   "metadata": {},
   "outputs": [],
   "source": [
    "class A:\n",
    "    def Disp(self):\n",
    "        print(\"This is a parent class method\")\n",
    "        \n",
    "class B(A):\n",
    "    def Disp(self):\n",
    "        super().Disp()\n",
    "        print(\"This is a child class method\")"
   ]
  },
  {
   "cell_type": "code",
   "execution_count": 3,
   "id": "0da16159-b4ec-49a6-a0a7-62673b0bfcc4",
   "metadata": {},
   "outputs": [],
   "source": [
    "fn=B()"
   ]
  },
  {
   "cell_type": "code",
   "execution_count": 4,
   "id": "5cb69218-db02-4eef-b6ed-ed713e2fd814",
   "metadata": {},
   "outputs": [
    {
     "name": "stdout",
     "output_type": "stream",
     "text": [
      "This is a parent class method\n",
      "This is a child class method\n"
     ]
    }
   ],
   "source": [
    "fn.Disp()"
   ]
  },
  {
   "cell_type": "code",
   "execution_count": null,
   "id": "699cc719-400e-4cbc-88f5-c67da0014354",
   "metadata": {},
   "outputs": [],
   "source": []
  }
 ],
 "metadata": {
  "kernelspec": {
   "display_name": "Python 3 (ipykernel)",
   "language": "python",
   "name": "python3"
  },
  "language_info": {
   "codemirror_mode": {
    "name": "ipython",
    "version": 3
   },
   "file_extension": ".py",
   "mimetype": "text/x-python",
   "name": "python",
   "nbconvert_exporter": "python",
   "pygments_lexer": "ipython3",
   "version": "3.10.8"
  }
 },
 "nbformat": 4,
 "nbformat_minor": 5
}
